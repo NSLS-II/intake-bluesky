{
 "cells": [
  {
   "cell_type": "markdown",
   "metadata": {},
   "source": [
    "# Intake for Bluesky\n",
    "\n",
    "## Setup: Acquire some sample data.\n",
    "\n",
    "For data acquisition (but not for data access!) we assume that we have direct access to MongoDB (or some message queue that has a sink into MongoDB)."
   ]
  },
  {
   "cell_type": "code",
   "execution_count": 26,
   "metadata": {},
   "outputs": [],
   "source": [
    "from bluesky import RunEngine\n",
    "from intake_bluesky import MongoInsertCallback\n",
    "from bluesky.plans import scan\n",
    "from bluesky.preprocessors import SupplementalData\n",
    "from ophyd.sim import motor, det, direct_img, img\n",
    "\n",
    "RE = RunEngine({})\n",
    "sd = SupplementalData(baseline=[motor])\n",
    "RE.preprocessors.append(sd)\n",
    "\n",
    "# This is just a simple callback that does MongoDB insert_one. No databroker.\n",
    "metadatastore_uri = 'mongodb://localhost:27017/test1'\n",
    "assets_uri = 'mongodb://localhost:27017/test1'\n",
    "insert = MongoInsertCallback(metadatastore_uri, assets_uri)\n",
    "RE.subscribe(insert)\n",
    "\n",
    "\n",
    "uid, = RE(scan([det], motor, -1, 1, 20))\n",
    "direct_img_uid, = RE(scan([direct_img], motor, -1, 1, 20))\n",
    "img_uid, = RE(scan([img], motor, -1, 1, 20))"
   ]
  },
  {
   "cell_type": "markdown",
   "metadata": {},
   "source": [
    "## Open an intake Catalog.\n",
    "\n",
    "We could use intake to access the data _directly_ like this, though we will probably never do so at NSLS-II."
   ]
  },
  {
   "cell_type": "code",
   "execution_count": 27,
   "metadata": {},
   "outputs": [
    {
     "data": {
      "text/plain": [
       "<Intake catalog: mongodb://localhost:27017/test1>"
      ]
     },
     "execution_count": 27,
     "metadata": {},
     "output_type": "execute_result"
    }
   ],
   "source": [
    "from intake_bluesky import MongoMetadataStoreCatalog\n",
    "\n",
    "mds = MongoMetadataStoreCatalog(metadatastore_uri)\n",
    "mds"
   ]
  },
  {
   "cell_type": "code",
   "execution_count": 29,
   "metadata": {},
   "outputs": [
    {
     "ename": "NotImplementedError",
     "evalue": "",
     "output_type": "error",
     "traceback": [
      "\u001b[0;31m---------------------------------------------------------------------------\u001b[0m",
      "\u001b[0;31mNotImplementedError\u001b[0m                       Traceback (most recent call last)",
      "\u001b[0;32m<ipython-input-29-00448d6db324>\u001b[0m in \u001b[0;36m<module>\u001b[0;34m\u001b[0m\n\u001b[0;32m----> 1\u001b[0;31m \u001b[0mmds\u001b[0m\u001b[0;34m[\u001b[0m\u001b[0mimg_uid\u001b[0m\u001b[0;34m]\u001b[0m\u001b[0;34m.\u001b[0m\u001b[0mprimary\u001b[0m\u001b[0;34m.\u001b[0m\u001b[0mread\u001b[0m\u001b[0;34m(\u001b[0m\u001b[0;34m)\u001b[0m\u001b[0;34m\u001b[0m\u001b[0;34m\u001b[0m\u001b[0m\n\u001b[0m",
      "\u001b[0;32m~/Repos/bnl/intake-xarray/intake_xarray/base.py\u001b[0m in \u001b[0;36mread\u001b[0;34m(self)\u001b[0m\n\u001b[1;32m     38\u001b[0m     \u001b[0;32mdef\u001b[0m \u001b[0mread\u001b[0m\u001b[0;34m(\u001b[0m\u001b[0mself\u001b[0m\u001b[0;34m)\u001b[0m\u001b[0;34m:\u001b[0m\u001b[0;34m\u001b[0m\u001b[0;34m\u001b[0m\u001b[0m\n\u001b[1;32m     39\u001b[0m         \u001b[0;34m\"\"\"Return a version of the xarray with all the data in memory\"\"\"\u001b[0m\u001b[0;34m\u001b[0m\u001b[0;34m\u001b[0m\u001b[0m\n\u001b[0;32m---> 40\u001b[0;31m         \u001b[0mself\u001b[0m\u001b[0;34m.\u001b[0m\u001b[0m_load_metadata\u001b[0m\u001b[0;34m(\u001b[0m\u001b[0;34m)\u001b[0m\u001b[0;34m\u001b[0m\u001b[0;34m\u001b[0m\u001b[0m\n\u001b[0m\u001b[1;32m     41\u001b[0m         \u001b[0;32mreturn\u001b[0m \u001b[0mself\u001b[0m\u001b[0;34m.\u001b[0m\u001b[0m_ds\u001b[0m\u001b[0;34m.\u001b[0m\u001b[0mload\u001b[0m\u001b[0;34m(\u001b[0m\u001b[0;34m)\u001b[0m\u001b[0;34m\u001b[0m\u001b[0;34m\u001b[0m\u001b[0m\n\u001b[1;32m     42\u001b[0m \u001b[0;34m\u001b[0m\u001b[0m\n",
      "\u001b[0;32m~/Repos/bnl/intake/intake/source/base.py\u001b[0m in \u001b[0;36m_load_metadata\u001b[0;34m(self)\u001b[0m\n\u001b[1;32m    128\u001b[0m         \u001b[0;34m\"\"\"load metadata only if needed\"\"\"\u001b[0m\u001b[0;34m\u001b[0m\u001b[0;34m\u001b[0m\u001b[0m\n\u001b[1;32m    129\u001b[0m         \u001b[0;32mif\u001b[0m \u001b[0mself\u001b[0m\u001b[0;34m.\u001b[0m\u001b[0m_schema\u001b[0m \u001b[0;32mis\u001b[0m \u001b[0;32mNone\u001b[0m\u001b[0;34m:\u001b[0m\u001b[0;34m\u001b[0m\u001b[0;34m\u001b[0m\u001b[0m\n\u001b[0;32m--> 130\u001b[0;31m             \u001b[0mself\u001b[0m\u001b[0;34m.\u001b[0m\u001b[0m_schema\u001b[0m \u001b[0;34m=\u001b[0m \u001b[0mself\u001b[0m\u001b[0;34m.\u001b[0m\u001b[0m_get_schema\u001b[0m\u001b[0;34m(\u001b[0m\u001b[0;34m)\u001b[0m\u001b[0;34m\u001b[0m\u001b[0;34m\u001b[0m\u001b[0m\n\u001b[0m\u001b[1;32m    131\u001b[0m             \u001b[0mself\u001b[0m\u001b[0;34m.\u001b[0m\u001b[0mdatashape\u001b[0m \u001b[0;34m=\u001b[0m \u001b[0mself\u001b[0m\u001b[0;34m.\u001b[0m\u001b[0m_schema\u001b[0m\u001b[0;34m.\u001b[0m\u001b[0mdatashape\u001b[0m\u001b[0;34m\u001b[0m\u001b[0;34m\u001b[0m\u001b[0m\n\u001b[1;32m    132\u001b[0m             \u001b[0mself\u001b[0m\u001b[0;34m.\u001b[0m\u001b[0mdtype\u001b[0m \u001b[0;34m=\u001b[0m \u001b[0mself\u001b[0m\u001b[0;34m.\u001b[0m\u001b[0m_schema\u001b[0m\u001b[0;34m.\u001b[0m\u001b[0mdtype\u001b[0m\u001b[0;34m\u001b[0m\u001b[0;34m\u001b[0m\u001b[0m\n",
      "\u001b[0;32m~/Repos/bnl/intake-xarray/intake_xarray/base.py\u001b[0m in \u001b[0;36m_get_schema\u001b[0;34m(self)\u001b[0m\n\u001b[1;32m     17\u001b[0m \u001b[0;34m\u001b[0m\u001b[0m\n\u001b[1;32m     18\u001b[0m         \u001b[0;32mif\u001b[0m \u001b[0mself\u001b[0m\u001b[0;34m.\u001b[0m\u001b[0m_ds\u001b[0m \u001b[0;32mis\u001b[0m \u001b[0;32mNone\u001b[0m\u001b[0;34m:\u001b[0m\u001b[0;34m\u001b[0m\u001b[0;34m\u001b[0m\u001b[0m\n\u001b[0;32m---> 19\u001b[0;31m             \u001b[0mself\u001b[0m\u001b[0;34m.\u001b[0m\u001b[0m_open_dataset\u001b[0m\u001b[0;34m(\u001b[0m\u001b[0;34m)\u001b[0m\u001b[0;34m\u001b[0m\u001b[0;34m\u001b[0m\u001b[0m\n\u001b[0m\u001b[1;32m     20\u001b[0m \u001b[0;34m\u001b[0m\u001b[0m\n\u001b[1;32m     21\u001b[0m             metadata = {\n",
      "\u001b[0;32m~/Repos/bnl/intake-bluesky/intake_bluesky.py\u001b[0m in \u001b[0;36m_open_dataset\u001b[0;34m(self)\u001b[0m\n\u001b[1;32m    364\u001b[0m                     \u001b[0mdims\u001b[0m \u001b[0;34m=\u001b[0m \u001b[0mtuple\u001b[0m\u001b[0;34m(\u001b[0m\u001b[0;34mf'dim_{i}'\u001b[0m \u001b[0;32mfor\u001b[0m \u001b[0mi\u001b[0m \u001b[0;32min\u001b[0m \u001b[0mrange\u001b[0m\u001b[0;34m(\u001b[0m\u001b[0mndim\u001b[0m\u001b[0;34m)\u001b[0m\u001b[0;34m)\u001b[0m\u001b[0;34m\u001b[0m\u001b[0;34m\u001b[0m\u001b[0m\n\u001b[1;32m    365\u001b[0m                 \u001b[0;32mif\u001b[0m \u001b[0mdata_keys\u001b[0m\u001b[0;34m[\u001b[0m\u001b[0mkey\u001b[0m\u001b[0;34m]\u001b[0m\u001b[0;34m.\u001b[0m\u001b[0mget\u001b[0m\u001b[0;34m(\u001b[0m\u001b[0;34m'external'\u001b[0m\u001b[0;34m)\u001b[0m\u001b[0;34m:\u001b[0m\u001b[0;34m\u001b[0m\u001b[0;34m\u001b[0m\u001b[0m\n\u001b[0;32m--> 366\u001b[0;31m                     \u001b[0;32mraise\u001b[0m \u001b[0mNotImplementedError\u001b[0m\u001b[0;34m\u001b[0m\u001b[0;34m\u001b[0m\u001b[0m\n\u001b[0m\u001b[1;32m    367\u001b[0m                 \u001b[0;32melse\u001b[0m\u001b[0;34m:\u001b[0m\u001b[0;34m\u001b[0m\u001b[0;34m\u001b[0m\u001b[0m\n\u001b[1;32m    368\u001b[0m                     data_arrays[key] = xarray.DataArray(\n",
      "\u001b[0;31mNotImplementedError\u001b[0m: "
     ]
    }
   ],
   "source": [
    "mds[img_uid].primary.read()"
   ]
  },
  {
   "cell_type": "code",
   "execution_count": 4,
   "metadata": {},
   "outputs": [
    {
     "data": {
      "text/plain": [
       "<xarray.Dataset>\n",
       "Dimensions:                   (dim_0: 10, dim_1: 10, time: 20)\n",
       "Coordinates:\n",
       "  * time                      (time) float64 1.544e+09 1.544e+09 ... 1.544e+09\n",
       "Dimensions without coordinates: dim_0, dim_1\n",
       "Data variables:\n",
       "    img                       (time, dim_0, dim_1) float64 1.0 1.0 ... 1.0 1.0\n",
       "    motor                     (time) float64 -1.0 -0.8947 -0.7895 ... 0.8947 1.0\n",
       "    motor_setpoint            (time) float64 -1.0 -0.8947 -0.7895 ... 0.8947 1.0\n",
       "    img:img                   (time, dim_0, dim_1) float64 1.0 1.0 ... 1.0 1.0\n",
       "    motor:motor_velocity      (time) int64 1 1 1 1 1 1 1 1 1 ... 1 1 1 1 1 1 1 1\n",
       "    motor:motor_acceleration  (time) int64 1 1 1 1 1 1 1 1 1 ... 1 1 1 1 1 1 1 1\n",
       "    seq_num                   (time) int64 1 2 3 4 5 6 7 ... 15 16 17 18 19 20"
      ]
     },
     "execution_count": 4,
     "metadata": {},
     "output_type": "execute_result"
    }
   ],
   "source": [
    "mds[direct_img_uid].primary().read()"
   ]
  },
  {
   "cell_type": "markdown",
   "metadata": {},
   "source": [
    "Instead we will access data through an HTTP service. We will start an intake server like this:\n",
    "\n",
    "```\n",
    "intake-server facility_catalog.yml\n",
    "```\n",
    "\n",
    "where `facility_catalog.yml` encodes the MongoDB ``uri`` above, and potentially many such URIs:"
   ]
  },
  {
   "cell_type": "code",
   "execution_count": 5,
   "metadata": {},
   "outputs": [
    {
     "name": "stdout",
     "output_type": "stream",
     "text": [
      "plugins:\n",
      "  source:\n",
      "    - module: intake_bluesky\n",
      "sources:\n",
      "  xyz:\n",
      "    description: Some imaginary beamline\n",
      "    driver: mongo_metadatastore\n",
      "    container: catalog\n",
      "    args:\n",
      "      uri: mongodb://localhost:27017/test1\n",
      "    metadata:\n",
      "      beamline: \"00-ID\"\n"
     ]
    }
   ],
   "source": [
    "%cat facility_catalog.yml"
   ]
  },
  {
   "cell_type": "code",
   "execution_count": 6,
   "metadata": {},
   "outputs": [
    {
     "data": {
      "text/plain": [
       "<Intake catalog: None>"
      ]
     },
     "execution_count": 6,
     "metadata": {},
     "output_type": "execute_result"
    }
   ],
   "source": [
    "import intake\n",
    "\n",
    "facility_catalog = intake.Catalog(\"intake://localhost:5000\", page_size=100)\n",
    "facility_catalog"
   ]
  },
  {
   "cell_type": "markdown",
   "metadata": {},
   "source": [
    "A Catalog contains entries, which we can access by iteration:\n",
    "\n",
    "```\n",
    "for entry in catalog:\n",
    "    ...\n",
    "```\n",
    "\n",
    "or individually by name:\n",
    "\n",
    "```\n",
    "entry = catalog[entry_name]\n",
    "```\n",
    "\n",
    "For small Catalogs, it is convenient to ``list`` their contents."
   ]
  },
  {
   "cell_type": "code",
   "execution_count": 7,
   "metadata": {},
   "outputs": [
    {
     "data": {
      "text/plain": [
       "['xyz']"
      ]
     },
     "execution_count": 7,
     "metadata": {},
     "output_type": "execute_result"
    }
   ],
   "source": [
    "list(facility_catalog)"
   ]
  },
  {
   "cell_type": "markdown",
   "metadata": {},
   "source": [
    "The ``facility_catalog`` contains a catalog for each beamline. Let's access the ``xyz`` entry, which is also a Catalog."
   ]
  },
  {
   "cell_type": "code",
   "execution_count": 8,
   "metadata": {},
   "outputs": [
    {
     "data": {
      "text/plain": [
       "<Intake catalog: xyz>"
      ]
     },
     "execution_count": 8,
     "metadata": {},
     "output_type": "execute_result"
    }
   ],
   "source": [
    "cat = facility_catalog['xyz']()\n",
    "cat"
   ]
  },
  {
   "cell_type": "code",
   "execution_count": 9,
   "metadata": {},
   "outputs": [
    {
     "data": {
      "text/plain": [
       "<Catalog Entry: caad3b8d-6507-444e-9e4c-6ab3c2e00f77>"
      ]
     },
     "execution_count": 9,
     "metadata": {},
     "output_type": "execute_result"
    }
   ],
   "source": [
    "cat[uid]"
   ]
  },
  {
   "cell_type": "markdown",
   "metadata": {},
   "source": [
    "Each entry in this Catalog represents one scan. There are too many to list them all. (We could _try_ but it would take a long time and probably run out of memory.)\n",
    "\n",
    "We can find scans of interest in a couple ways.\n",
    "\n",
    "## Progressive Search\n",
    "\n",
    "We can search ``cat`` by passing it a Mongo Query. The result is another Catalog, with a subset of the entries in ``cat``."
   ]
  },
  {
   "cell_type": "code",
   "execution_count": 10,
   "metadata": {},
   "outputs": [
    {
     "data": {
      "text/plain": [
       "<Intake catalog: None>"
      ]
     },
     "execution_count": 10,
     "metadata": {},
     "output_type": "execute_result"
    }
   ],
   "source": [
    "search_results = cat.search({'plan_name': 'scan'})\n",
    "search_results"
   ]
  },
  {
   "cell_type": "markdown",
   "metadata": {},
   "source": [
    "We can progressively serach, generating yet another Catalog."
   ]
  },
  {
   "cell_type": "code",
   "execution_count": 11,
   "metadata": {},
   "outputs": [
    {
     "data": {
      "text/plain": [
       "<Intake catalog: None>"
      ]
     },
     "execution_count": 11,
     "metadata": {},
     "output_type": "execute_result"
    }
   ],
   "source": [
    "import time\n",
    "recent_counts = search_results.search({'time': {'$gt': time.time() - 60 * 60 * 24}})\n",
    "recent_counts"
   ]
  },
  {
   "cell_type": "markdown",
   "metadata": {},
   "source": [
    "Having narrowed the results to a small Catalog, we can list them."
   ]
  },
  {
   "cell_type": "code",
   "execution_count": 12,
   "metadata": {},
   "outputs": [
    {
     "data": {
      "text/plain": [
       "['59110e2b-52d1-4c52-9bff-53a56ed13d2d',\n",
       " 'caad3b8d-6507-444e-9e4c-6ab3c2e00f77',\n",
       " 'e92cc2d5-d437-435c-a480-385327c525f4',\n",
       " '14aadf7f-99cc-415a-a1a5-1b0607830b5c',\n",
       " '7d48ccaa-39c8-4371-9808-140c4e6fbfb7',\n",
       " 'aaa458f8-b21b-468a-abcb-15957aef2693',\n",
       " 'cdc3861c-8e44-4901-8839-78e38058bc2b',\n",
       " 'd84eb3b1-b2c4-48b5-9d6c-ee75ea91a347',\n",
       " '3d052dc2-608a-415e-ac59-7b520a2366cd',\n",
       " '0237a0fa-253e-4eaf-ba03-c44ce3364384',\n",
       " '1b60fe9e-d297-49bf-aaab-1201dbe6f610',\n",
       " 'd14e4dae-ba47-41b6-b823-8d3bb42a8934',\n",
       " '9affeed8-827f-443a-953e-8ebbb6d73568',\n",
       " '90663b52-85f1-4518-be95-73407035b339',\n",
       " '1736582e-b9c6-400b-8b37-ed5de75096b3',\n",
       " '242cf823-917c-42f9-8803-fd57a72b2405',\n",
       " '37f2c897-4cd9-4189-8b08-8b10efae6b42',\n",
       " '26e019e4-89eb-4ca9-a26c-d00c2b005605',\n",
       " 'd9b965cd-e5e4-4595-beaa-c7027d70fef5',\n",
       " '7fd486c7-c4a1-4a88-8fb0-65db7ae7b200',\n",
       " 'ffd88a74-b44f-46ed-9a24-b3691cb65471',\n",
       " '73d3f963-c796-4f84-abfe-630e68d4b185',\n",
       " '8e57a261-e569-4977-a524-22a5573b2b89',\n",
       " '87344118-b30f-4456-b71a-561aa471cebf',\n",
       " '4c52d958-885f-480a-90e3-245174c80ad0',\n",
       " 'ef4da038-1e6b-4a7b-8889-b020a1598c09',\n",
       " '6c2c6d67-26a0-4cb6-a6e4-9bfe6e92a5e8',\n",
       " 'c28740ae-7d2e-46a9-83c5-80443f990126',\n",
       " '6894800a-1735-4d5b-90b9-3d865b9ec763',\n",
       " '2d26c857-1093-42b1-b3f6-3d6edaae9ca8',\n",
       " 'a8673869-1d42-491b-98ad-9287fa2f319d',\n",
       " '55a909f7-3dab-466b-831f-80ef04b8d663',\n",
       " '01bd732f-1c4a-4dcb-9dba-b78062634610',\n",
       " '66bdb065-ab84-4bfc-8b90-184f2d2feae2',\n",
       " '25acbf13-dd75-4f76-9fee-a3e57b08134b',\n",
       " 'c490bc62-df26-4271-95a2-173388c12279',\n",
       " 'd4e1beca-83cf-4518-9e75-e9edc6d5389e',\n",
       " '5f71daa3-1ee4-4f08-9e08-11088355ae23',\n",
       " 'd6f9d017-da67-4e83-b90f-f9fe519316b2',\n",
       " 'bd588760-0430-4419-b5f0-d013a7f52106',\n",
       " 'c7769cf3-74d7-4a7a-aa6a-365c6a10f152',\n",
       " '32a7709b-35e8-42e2-b523-0de5f732af31',\n",
       " 'cf64f61e-5568-4927-8134-31b4843fbed3',\n",
       " '826a95aa-47cc-4c1e-bc81-31f12ebbade5',\n",
       " '9760b89d-cd94-4211-98c8-be481d8633ac',\n",
       " '3dc9226a-54f3-49f3-9257-0d9d401175e9',\n",
       " 'd1b2ebbc-c528-4f6b-bbd5-4d977eb0d86b',\n",
       " '2495c698-8967-430a-b806-ab9393f2a18a',\n",
       " 'b282b431-f25a-4297-a4f6-c1ed27a420ba',\n",
       " '07357e9e-d40b-409f-adae-be471538f53b',\n",
       " 'ea5b4a16-c22b-4230-8250-5b2ac1c30107',\n",
       " 'f24fea2b-6994-4529-9c80-3696057a58ef',\n",
       " '2e92dd1b-958e-4924-8089-091502a3b2bc',\n",
       " '2b8ef77a-dec6-4b8f-8d3e-0be76d73b0b3',\n",
       " '0fd0d4ad-d87a-4611-a3d5-5b95b8d3df9c',\n",
       " '88247e6f-bf90-4aca-a204-dfb8ad6f1600',\n",
       " '026300f2-b001-4af1-b95b-23c8a0923a52',\n",
       " '5ab10c09-c2b8-4723-a716-f5d4327934dd',\n",
       " '9e3e75c0-b470-40a6-96b4-72080dcf7cbe',\n",
       " '97eb9101-ae36-4ef6-b5e8-460421cbe548',\n",
       " 'be9c60c0-597a-4e56-994e-617253dc1e95',\n",
       " 'eb3ddeb8-9db7-4bd3-9f27-57176a72e409']"
      ]
     },
     "execution_count": 12,
     "metadata": {},
     "output_type": "execute_result"
    }
   ],
   "source": [
    "list(recent_counts)"
   ]
  },
  {
   "cell_type": "markdown",
   "metadata": {},
   "source": [
    "## Random access by unique ID (`uid`), recency, and `scan_id`"
   ]
  },
  {
   "cell_type": "markdown",
   "metadata": {},
   "source": [
    "We can access entries by their unique ID \"name\" as in:"
   ]
  },
  {
   "cell_type": "code",
   "execution_count": 13,
   "metadata": {},
   "outputs": [
    {
     "data": {
      "text/plain": [
       "<Catalog Entry: caad3b8d-6507-444e-9e4c-6ab3c2e00f77>"
      ]
     },
     "execution_count": 13,
     "metadata": {},
     "output_type": "execute_result"
    }
   ],
   "source": [
    "entry = cat[uid]  # uid we captured above during data acquisition\n",
    "entry"
   ]
  },
  {
   "cell_type": "markdown",
   "metadata": {},
   "source": [
    "We can also access entries by *recency* with this syntactic sugar:"
   ]
  },
  {
   "cell_type": "code",
   "execution_count": 14,
   "metadata": {},
   "outputs": [
    {
     "data": {
      "text/plain": [
       "<Catalog Entry: -1>"
      ]
     },
     "execution_count": 14,
     "metadata": {},
     "output_type": "execute_result"
    }
   ],
   "source": [
    "recent_counts[-1]"
   ]
  },
  {
   "cell_type": "markdown",
   "metadata": {},
   "source": [
    "A positive integer matches the most recent entry with the corresponding ``scan_id`` (not necessarily globally unique!)"
   ]
  },
  {
   "cell_type": "code",
   "execution_count": 15,
   "metadata": {},
   "outputs": [
    {
     "data": {
      "text/plain": [
       "<Catalog Entry: 3>"
      ]
     },
     "execution_count": 15,
     "metadata": {},
     "output_type": "execute_result"
    }
   ],
   "source": [
    "cat[3]"
   ]
  },
  {
   "cell_type": "markdown",
   "metadata": {},
   "source": [
    "Both of these \"tricks\" are _not_ general features of intake Catalogs, but as shown we can support them, for the sake of convenience and of continuity with databroker usage patterns."
   ]
  },
  {
   "cell_type": "markdown",
   "metadata": {},
   "source": [
    "## Metadata"
   ]
  },
  {
   "cell_type": "markdown",
   "metadata": {},
   "source": [
    "The entry's metadata is available via ``entry.metadata``. Notice that this includes ``entry.metadata.start`` and ``entry.metadata.stop``, the documents generated at the beginning and end of the corresponding scan."
   ]
  },
  {
   "cell_type": "code",
   "execution_count": 16,
   "metadata": {},
   "outputs": [
    {
     "data": {
      "text/plain": [
       "{'start': {'uid': 'caad3b8d-6507-444e-9e4c-6ab3c2e00f77',\n",
       "  'time': 1544027929.8677351,\n",
       "  'scan_id': 1,\n",
       "  'plan_type': 'generator',\n",
       "  'plan_name': 'scan',\n",
       "  'detectors': ['det'],\n",
       "  'motors': ['motor'],\n",
       "  'num_points': 20,\n",
       "  'num_intervals': 19,\n",
       "  'plan_args': {'detectors': [\"SynGauss(name='det', value=1.0, timestamp=1544027929.848608)\"],\n",
       "   'num': 20,\n",
       "   'args': [\"SynAxis(prefix='', name='motor', read_attrs=['readback', 'setpoint'], configuration_attrs=['velocity', 'acceleration'])\",\n",
       "    -1,\n",
       "    1],\n",
       "   'per_step': 'None'},\n",
       "  'hints': {'dimensions': [[['motor'], 'primary']]},\n",
       "  'plan_pattern': 'inner_product',\n",
       "  'plan_pattern_module': 'bluesky.plan_patterns',\n",
       "  'plan_pattern_args': {'num': 20,\n",
       "   'args': [\"SynAxis(prefix='', name='motor', read_attrs=['readback', 'setpoint'], configuration_attrs=['velocity', 'acceleration'])\",\n",
       "    -1,\n",
       "    1]}},\n",
       " 'stop': {'run_start': 'caad3b8d-6507-444e-9e4c-6ab3c2e00f77',\n",
       "  'time': 1544027929.938302,\n",
       "  'uid': 'b2adced4-5b33-4c2c-a5f6-2083d07f7be2',\n",
       "  'exit_status': 'success',\n",
       "  'reason': '',\n",
       "  'num_events': {'baseline': 2, 'primary': 20}},\n",
       " 'cache': None,\n",
       " 'catalog_dir': None}"
      ]
     },
     "execution_count": 16,
     "metadata": {},
     "output_type": "execute_result"
    }
   ],
   "source": [
    "entry.metadata"
   ]
  },
  {
   "cell_type": "markdown",
   "metadata": {},
   "source": [
    "## Accessing Data\n",
    "\n",
    "Calling an Entry like `entry()` or equivalently `entry.get()` returns the DataSource for that Entry. The DataSource corresponding to one scan is itself a Catalog, named for with the `uid`."
   ]
  },
  {
   "cell_type": "code",
   "execution_count": 17,
   "metadata": {},
   "outputs": [
    {
     "data": {
      "text/plain": [
       "<Intake catalog: caad3b8d-6507-444e-9e4c-6ab3c2e00f77>"
      ]
     },
     "execution_count": 17,
     "metadata": {},
     "output_type": "execute_result"
    }
   ],
   "source": [
    "entry()"
   ]
  },
  {
   "cell_type": "markdown",
   "metadata": {},
   "source": [
    "That Catalog has one entry for each stream of data captured during that scan. (Typically there is a ``'primary'`` stream and potentially others, but this is just a convention.) As with all Catalogs, we can look at its contents."
   ]
  },
  {
   "cell_type": "code",
   "execution_count": 18,
   "metadata": {},
   "outputs": [
    {
     "data": {
      "text/plain": [
       "['baseline', 'primary']"
      ]
     },
     "execution_count": 18,
     "metadata": {},
     "output_type": "execute_result"
    }
   ],
   "source": [
    "list(entry())"
   ]
  },
  {
   "cell_type": "markdown",
   "metadata": {},
   "source": [
    "We can pull the data from the 'primary' stream all at once:"
   ]
  },
  {
   "cell_type": "code",
   "execution_count": 19,
   "metadata": {},
   "outputs": [
    {
     "data": {
      "text/plain": [
       "<xarray.Dataset>\n",
       "Dimensions:                   (time: 20)\n",
       "Coordinates:\n",
       "  * time                      (time) float64 1.544e+09 1.544e+09 ... 1.544e+09\n",
       "Data variables:\n",
       "    det                       (time) float64 0.6065 0.6701 ... 0.6701 0.6065\n",
       "    det:det                   (time) float64 0.6065 0.6065 ... 0.6065 0.6065\n",
       "    motor                     (time) float64 -1.0 -0.8947 -0.7895 ... 0.8947 1.0\n",
       "    motor:motor_acceleration  (time) int64 1 1 1 1 1 1 1 1 1 ... 1 1 1 1 1 1 1 1\n",
       "    motor:motor_velocity      (time) int64 1 1 1 1 1 1 1 1 1 ... 1 1 1 1 1 1 1 1\n",
       "    motor_setpoint            (time) float64 -1.0 -0.8947 -0.7895 ... 0.8947 1.0\n",
       "    seq_num                   (time) int64 1 2 3 4 5 6 7 ... 15 16 17 18 19 20"
      ]
     },
     "execution_count": 19,
     "metadata": {},
     "output_type": "execute_result"
    }
   ],
   "source": [
    "entry().primary().read()"
   ]
  },
  {
   "cell_type": "markdown",
   "metadata": {},
   "source": [
    "At this point, we have \"left\" intake. We have an ordinary `xarray.Dataset` object, which we can use to do any further slicing or drilling down. This `Dataset` contains numpy arrays. Alternatively, we can ask intake for a `Dataset` of _dask_ arrays, which will defer pulling the data from the server until called up to compute a result."
   ]
  },
  {
   "cell_type": "code",
   "execution_count": 20,
   "metadata": {},
   "outputs": [
    {
     "data": {
      "text/plain": [
       "<xarray.Dataset>\n",
       "Dimensions:                   (time: 20)\n",
       "Coordinates:\n",
       "  * time                      (time) float64 1.544e+09 1.544e+09 ... 1.544e+09\n",
       "Data variables:\n",
       "    det                       (time) float64 dask.array<shape=(20,), chunksize=(20,)>\n",
       "    det:det                   (time) float64 dask.array<shape=(20,), chunksize=(20,)>\n",
       "    motor                     (time) float64 dask.array<shape=(20,), chunksize=(20,)>\n",
       "    motor:motor_acceleration  (time) int64 dask.array<shape=(20,), chunksize=(20,)>\n",
       "    motor:motor_velocity      (time) int64 dask.array<shape=(20,), chunksize=(20,)>\n",
       "    motor_setpoint            (time) float64 dask.array<shape=(20,), chunksize=(20,)>\n",
       "    seq_num                   (time) int64 dask.array<shape=(20,), chunksize=(20,)>"
      ]
     },
     "execution_count": 20,
     "metadata": {},
     "output_type": "execute_result"
    }
   ],
   "source": [
    "entry().primary().to_dask()  # an xarray of dask.arrays"
   ]
  },
  {
   "cell_type": "markdown",
   "metadata": {},
   "source": [
    "For example, converting the `xarray.Dataset` to a `pandas.DataFrame` will prompt dask to materialize the data:"
   ]
  },
  {
   "cell_type": "code",
   "execution_count": 21,
   "metadata": {},
   "outputs": [
    {
     "data": {
      "text/html": [
       "<div>\n",
       "<style scoped>\n",
       "    .dataframe tbody tr th:only-of-type {\n",
       "        vertical-align: middle;\n",
       "    }\n",
       "\n",
       "    .dataframe tbody tr th {\n",
       "        vertical-align: top;\n",
       "    }\n",
       "\n",
       "    .dataframe thead th {\n",
       "        text-align: right;\n",
       "    }\n",
       "</style>\n",
       "<table border=\"1\" class=\"dataframe\">\n",
       "  <thead>\n",
       "    <tr style=\"text-align: right;\">\n",
       "      <th></th>\n",
       "      <th>det</th>\n",
       "      <th>det:det</th>\n",
       "      <th>motor</th>\n",
       "      <th>motor:motor_acceleration</th>\n",
       "      <th>motor:motor_velocity</th>\n",
       "      <th>motor_setpoint</th>\n",
       "      <th>seq_num</th>\n",
       "    </tr>\n",
       "    <tr>\n",
       "      <th>time</th>\n",
       "      <th></th>\n",
       "      <th></th>\n",
       "      <th></th>\n",
       "      <th></th>\n",
       "      <th></th>\n",
       "      <th></th>\n",
       "      <th></th>\n",
       "    </tr>\n",
       "  </thead>\n",
       "  <tbody>\n",
       "    <tr>\n",
       "      <th>1.544028e+09</th>\n",
       "      <td>0.606531</td>\n",
       "      <td>0.606531</td>\n",
       "      <td>-1.000000</td>\n",
       "      <td>1</td>\n",
       "      <td>1</td>\n",
       "      <td>-1.000000</td>\n",
       "      <td>1</td>\n",
       "    </tr>\n",
       "    <tr>\n",
       "      <th>1.544028e+09</th>\n",
       "      <td>0.670134</td>\n",
       "      <td>0.606531</td>\n",
       "      <td>-0.894737</td>\n",
       "      <td>1</td>\n",
       "      <td>1</td>\n",
       "      <td>-0.894737</td>\n",
       "      <td>2</td>\n",
       "    </tr>\n",
       "    <tr>\n",
       "      <th>1.544028e+09</th>\n",
       "      <td>0.732249</td>\n",
       "      <td>0.606531</td>\n",
       "      <td>-0.789474</td>\n",
       "      <td>1</td>\n",
       "      <td>1</td>\n",
       "      <td>-0.789474</td>\n",
       "      <td>3</td>\n",
       "    </tr>\n",
       "    <tr>\n",
       "      <th>1.544028e+09</th>\n",
       "      <td>0.791305</td>\n",
       "      <td>0.606531</td>\n",
       "      <td>-0.684211</td>\n",
       "      <td>1</td>\n",
       "      <td>1</td>\n",
       "      <td>-0.684211</td>\n",
       "      <td>4</td>\n",
       "    </tr>\n",
       "    <tr>\n",
       "      <th>1.544028e+09</th>\n",
       "      <td>0.845700</td>\n",
       "      <td>0.606531</td>\n",
       "      <td>-0.578947</td>\n",
       "      <td>1</td>\n",
       "      <td>1</td>\n",
       "      <td>-0.578947</td>\n",
       "      <td>5</td>\n",
       "    </tr>\n",
       "    <tr>\n",
       "      <th>1.544028e+09</th>\n",
       "      <td>0.893876</td>\n",
       "      <td>0.606531</td>\n",
       "      <td>-0.473684</td>\n",
       "      <td>1</td>\n",
       "      <td>1</td>\n",
       "      <td>-0.473684</td>\n",
       "      <td>6</td>\n",
       "    </tr>\n",
       "    <tr>\n",
       "      <th>1.544028e+09</th>\n",
       "      <td>0.934385</td>\n",
       "      <td>0.606531</td>\n",
       "      <td>-0.368421</td>\n",
       "      <td>1</td>\n",
       "      <td>1</td>\n",
       "      <td>-0.368421</td>\n",
       "      <td>7</td>\n",
       "    </tr>\n",
       "    <tr>\n",
       "      <th>1.544028e+09</th>\n",
       "      <td>0.965967</td>\n",
       "      <td>0.606531</td>\n",
       "      <td>-0.263158</td>\n",
       "      <td>1</td>\n",
       "      <td>1</td>\n",
       "      <td>-0.263158</td>\n",
       "      <td>8</td>\n",
       "    </tr>\n",
       "    <tr>\n",
       "      <th>1.544028e+09</th>\n",
       "      <td>0.987612</td>\n",
       "      <td>0.606531</td>\n",
       "      <td>-0.157895</td>\n",
       "      <td>1</td>\n",
       "      <td>1</td>\n",
       "      <td>-0.157895</td>\n",
       "      <td>9</td>\n",
       "    </tr>\n",
       "    <tr>\n",
       "      <th>1.544028e+09</th>\n",
       "      <td>0.998616</td>\n",
       "      <td>0.606531</td>\n",
       "      <td>-0.052632</td>\n",
       "      <td>1</td>\n",
       "      <td>1</td>\n",
       "      <td>-0.052632</td>\n",
       "      <td>10</td>\n",
       "    </tr>\n",
       "    <tr>\n",
       "      <th>1.544028e+09</th>\n",
       "      <td>0.998616</td>\n",
       "      <td>0.606531</td>\n",
       "      <td>0.052632</td>\n",
       "      <td>1</td>\n",
       "      <td>1</td>\n",
       "      <td>0.052632</td>\n",
       "      <td>11</td>\n",
       "    </tr>\n",
       "    <tr>\n",
       "      <th>1.544028e+09</th>\n",
       "      <td>0.987612</td>\n",
       "      <td>0.606531</td>\n",
       "      <td>0.157895</td>\n",
       "      <td>1</td>\n",
       "      <td>1</td>\n",
       "      <td>0.157895</td>\n",
       "      <td>12</td>\n",
       "    </tr>\n",
       "    <tr>\n",
       "      <th>1.544028e+09</th>\n",
       "      <td>0.965967</td>\n",
       "      <td>0.606531</td>\n",
       "      <td>0.263158</td>\n",
       "      <td>1</td>\n",
       "      <td>1</td>\n",
       "      <td>0.263158</td>\n",
       "      <td>13</td>\n",
       "    </tr>\n",
       "    <tr>\n",
       "      <th>1.544028e+09</th>\n",
       "      <td>0.934385</td>\n",
       "      <td>0.606531</td>\n",
       "      <td>0.368421</td>\n",
       "      <td>1</td>\n",
       "      <td>1</td>\n",
       "      <td>0.368421</td>\n",
       "      <td>14</td>\n",
       "    </tr>\n",
       "    <tr>\n",
       "      <th>1.544028e+09</th>\n",
       "      <td>0.893876</td>\n",
       "      <td>0.606531</td>\n",
       "      <td>0.473684</td>\n",
       "      <td>1</td>\n",
       "      <td>1</td>\n",
       "      <td>0.473684</td>\n",
       "      <td>15</td>\n",
       "    </tr>\n",
       "    <tr>\n",
       "      <th>1.544028e+09</th>\n",
       "      <td>0.845700</td>\n",
       "      <td>0.606531</td>\n",
       "      <td>0.578947</td>\n",
       "      <td>1</td>\n",
       "      <td>1</td>\n",
       "      <td>0.578947</td>\n",
       "      <td>16</td>\n",
       "    </tr>\n",
       "    <tr>\n",
       "      <th>1.544028e+09</th>\n",
       "      <td>0.791305</td>\n",
       "      <td>0.606531</td>\n",
       "      <td>0.684211</td>\n",
       "      <td>1</td>\n",
       "      <td>1</td>\n",
       "      <td>0.684211</td>\n",
       "      <td>17</td>\n",
       "    </tr>\n",
       "    <tr>\n",
       "      <th>1.544028e+09</th>\n",
       "      <td>0.732249</td>\n",
       "      <td>0.606531</td>\n",
       "      <td>0.789474</td>\n",
       "      <td>1</td>\n",
       "      <td>1</td>\n",
       "      <td>0.789474</td>\n",
       "      <td>18</td>\n",
       "    </tr>\n",
       "    <tr>\n",
       "      <th>1.544028e+09</th>\n",
       "      <td>0.670134</td>\n",
       "      <td>0.606531</td>\n",
       "      <td>0.894737</td>\n",
       "      <td>1</td>\n",
       "      <td>1</td>\n",
       "      <td>0.894737</td>\n",
       "      <td>19</td>\n",
       "    </tr>\n",
       "    <tr>\n",
       "      <th>1.544028e+09</th>\n",
       "      <td>0.606531</td>\n",
       "      <td>0.606531</td>\n",
       "      <td>1.000000</td>\n",
       "      <td>1</td>\n",
       "      <td>1</td>\n",
       "      <td>1.000000</td>\n",
       "      <td>20</td>\n",
       "    </tr>\n",
       "  </tbody>\n",
       "</table>\n",
       "</div>"
      ],
      "text/plain": [
       "                   det   det:det     motor  motor:motor_acceleration  \\\n",
       "time                                                                   \n",
       "1.544028e+09  0.606531  0.606531 -1.000000                         1   \n",
       "1.544028e+09  0.670134  0.606531 -0.894737                         1   \n",
       "1.544028e+09  0.732249  0.606531 -0.789474                         1   \n",
       "1.544028e+09  0.791305  0.606531 -0.684211                         1   \n",
       "1.544028e+09  0.845700  0.606531 -0.578947                         1   \n",
       "1.544028e+09  0.893876  0.606531 -0.473684                         1   \n",
       "1.544028e+09  0.934385  0.606531 -0.368421                         1   \n",
       "1.544028e+09  0.965967  0.606531 -0.263158                         1   \n",
       "1.544028e+09  0.987612  0.606531 -0.157895                         1   \n",
       "1.544028e+09  0.998616  0.606531 -0.052632                         1   \n",
       "1.544028e+09  0.998616  0.606531  0.052632                         1   \n",
       "1.544028e+09  0.987612  0.606531  0.157895                         1   \n",
       "1.544028e+09  0.965967  0.606531  0.263158                         1   \n",
       "1.544028e+09  0.934385  0.606531  0.368421                         1   \n",
       "1.544028e+09  0.893876  0.606531  0.473684                         1   \n",
       "1.544028e+09  0.845700  0.606531  0.578947                         1   \n",
       "1.544028e+09  0.791305  0.606531  0.684211                         1   \n",
       "1.544028e+09  0.732249  0.606531  0.789474                         1   \n",
       "1.544028e+09  0.670134  0.606531  0.894737                         1   \n",
       "1.544028e+09  0.606531  0.606531  1.000000                         1   \n",
       "\n",
       "              motor:motor_velocity  motor_setpoint  seq_num  \n",
       "time                                                         \n",
       "1.544028e+09                     1       -1.000000        1  \n",
       "1.544028e+09                     1       -0.894737        2  \n",
       "1.544028e+09                     1       -0.789474        3  \n",
       "1.544028e+09                     1       -0.684211        4  \n",
       "1.544028e+09                     1       -0.578947        5  \n",
       "1.544028e+09                     1       -0.473684        6  \n",
       "1.544028e+09                     1       -0.368421        7  \n",
       "1.544028e+09                     1       -0.263158        8  \n",
       "1.544028e+09                     1       -0.157895        9  \n",
       "1.544028e+09                     1       -0.052632       10  \n",
       "1.544028e+09                     1        0.052632       11  \n",
       "1.544028e+09                     1        0.157895       12  \n",
       "1.544028e+09                     1        0.263158       13  \n",
       "1.544028e+09                     1        0.368421       14  \n",
       "1.544028e+09                     1        0.473684       15  \n",
       "1.544028e+09                     1        0.578947       16  \n",
       "1.544028e+09                     1        0.684211       17  \n",
       "1.544028e+09                     1        0.789474       18  \n",
       "1.544028e+09                     1        0.894737       19  \n",
       "1.544028e+09                     1        1.000000       20  "
      ]
     },
     "execution_count": 21,
     "metadata": {},
     "output_type": "execute_result"
    }
   ],
   "source": [
    "entry().primary().to_dask().to_dataframe()"
   ]
  },
  {
   "cell_type": "markdown",
   "metadata": {},
   "source": [
    "We can look at the data from the other stream, 'baseline'."
   ]
  },
  {
   "cell_type": "code",
   "execution_count": 23,
   "metadata": {},
   "outputs": [
    {
     "data": {
      "text/plain": [
       "<xarray.Dataset>\n",
       "Dimensions:                   (time: 2)\n",
       "Coordinates:\n",
       "  * time                      (time) float64 1.544e+09 1.544e+09\n",
       "Data variables:\n",
       "    motor                     (time) float64 0.0 1.0\n",
       "    motor:motor_acceleration  (time) int64 1 1\n",
       "    motor:motor_velocity      (time) int64 1 1\n",
       "    motor_setpoint            (time) float64 0.0 1.0\n",
       "    seq_num                   (time) int64 1 2"
      ]
     },
     "execution_count": 23,
     "metadata": {},
     "output_type": "execute_result"
    }
   ],
   "source": [
    "entry().baseline().read()"
   ]
  },
  {
   "cell_type": "markdown",
   "metadata": {},
   "source": [
    "Or merge all the stream together into one `xarray.Dataset`:"
   ]
  },
  {
   "cell_type": "code",
   "execution_count": 24,
   "metadata": {},
   "outputs": [
    {
     "data": {
      "text/plain": [
       "<xarray.Dataset>\n",
       "Dimensions:                   (time: 22)\n",
       "Coordinates:\n",
       "  * time                      (time) float64 1.544e+09 1.544e+09 ... 1.544e+09\n",
       "Data variables:\n",
       "    motor                     (time) float64 0.0 -1.0 -0.8947 ... 0.8947 1.0 1.0\n",
       "    motor:motor_acceleration  (time) float64 1.0 1.0 1.0 1.0 ... 1.0 1.0 1.0 1.0\n",
       "    motor:motor_velocity      (time) float64 1.0 1.0 1.0 1.0 ... 1.0 1.0 1.0 1.0\n",
       "    motor_setpoint            (time) float64 0.0 -1.0 -0.8947 ... 0.8947 1.0 1.0\n",
       "    seq_num                   (time) float64 1.0 1.0 2.0 3.0 ... 19.0 20.0 2.0\n",
       "    det                       (time) float64 nan 0.6065 0.6701 ... 0.6065 nan\n",
       "    det:det                   (time) float64 nan 0.6065 0.6065 ... 0.6065 nan"
      ]
     },
     "execution_count": 24,
     "metadata": {},
     "output_type": "execute_result"
    }
   ],
   "source": [
    "import xarray\n",
    "\n",
    "xarray.merge(entry()[key].read() for key in entry())"
   ]
  },
  {
   "cell_type": "markdown",
   "metadata": {},
   "source": [
    "which creates a \"block matrix\" sorted on time, clearly visible when cast into a DataFrame:"
   ]
  },
  {
   "cell_type": "code",
   "execution_count": 25,
   "metadata": {},
   "outputs": [
    {
     "data": {
      "text/html": [
       "<div>\n",
       "<style scoped>\n",
       "    .dataframe tbody tr th:only-of-type {\n",
       "        vertical-align: middle;\n",
       "    }\n",
       "\n",
       "    .dataframe tbody tr th {\n",
       "        vertical-align: top;\n",
       "    }\n",
       "\n",
       "    .dataframe thead th {\n",
       "        text-align: right;\n",
       "    }\n",
       "</style>\n",
       "<table border=\"1\" class=\"dataframe\">\n",
       "  <thead>\n",
       "    <tr style=\"text-align: right;\">\n",
       "      <th></th>\n",
       "      <th>motor</th>\n",
       "      <th>motor:motor_acceleration</th>\n",
       "      <th>motor:motor_velocity</th>\n",
       "      <th>motor_setpoint</th>\n",
       "      <th>seq_num</th>\n",
       "      <th>det</th>\n",
       "      <th>det:det</th>\n",
       "    </tr>\n",
       "    <tr>\n",
       "      <th>time</th>\n",
       "      <th></th>\n",
       "      <th></th>\n",
       "      <th></th>\n",
       "      <th></th>\n",
       "      <th></th>\n",
       "      <th></th>\n",
       "      <th></th>\n",
       "    </tr>\n",
       "  </thead>\n",
       "  <tbody>\n",
       "    <tr>\n",
       "      <th>1.544027e+09</th>\n",
       "      <td>0.000000</td>\n",
       "      <td>1.0</td>\n",
       "      <td>1.0</td>\n",
       "      <td>0.000000</td>\n",
       "      <td>1.0</td>\n",
       "      <td>NaN</td>\n",
       "      <td>NaN</td>\n",
       "    </tr>\n",
       "    <tr>\n",
       "      <th>1.544027e+09</th>\n",
       "      <td>-1.000000</td>\n",
       "      <td>1.0</td>\n",
       "      <td>1.0</td>\n",
       "      <td>-1.000000</td>\n",
       "      <td>1.0</td>\n",
       "      <td>0.606531</td>\n",
       "      <td>0.606531</td>\n",
       "    </tr>\n",
       "    <tr>\n",
       "      <th>1.544027e+09</th>\n",
       "      <td>-0.894737</td>\n",
       "      <td>1.0</td>\n",
       "      <td>1.0</td>\n",
       "      <td>-0.894737</td>\n",
       "      <td>2.0</td>\n",
       "      <td>0.670134</td>\n",
       "      <td>0.606531</td>\n",
       "    </tr>\n",
       "    <tr>\n",
       "      <th>1.544027e+09</th>\n",
       "      <td>-0.789474</td>\n",
       "      <td>1.0</td>\n",
       "      <td>1.0</td>\n",
       "      <td>-0.789474</td>\n",
       "      <td>3.0</td>\n",
       "      <td>0.732249</td>\n",
       "      <td>0.606531</td>\n",
       "    </tr>\n",
       "    <tr>\n",
       "      <th>1.544027e+09</th>\n",
       "      <td>-0.684211</td>\n",
       "      <td>1.0</td>\n",
       "      <td>1.0</td>\n",
       "      <td>-0.684211</td>\n",
       "      <td>4.0</td>\n",
       "      <td>0.791305</td>\n",
       "      <td>0.606531</td>\n",
       "    </tr>\n",
       "    <tr>\n",
       "      <th>1.544027e+09</th>\n",
       "      <td>-0.578947</td>\n",
       "      <td>1.0</td>\n",
       "      <td>1.0</td>\n",
       "      <td>-0.578947</td>\n",
       "      <td>5.0</td>\n",
       "      <td>0.845700</td>\n",
       "      <td>0.606531</td>\n",
       "    </tr>\n",
       "    <tr>\n",
       "      <th>1.544027e+09</th>\n",
       "      <td>-0.473684</td>\n",
       "      <td>1.0</td>\n",
       "      <td>1.0</td>\n",
       "      <td>-0.473684</td>\n",
       "      <td>6.0</td>\n",
       "      <td>0.893876</td>\n",
       "      <td>0.606531</td>\n",
       "    </tr>\n",
       "    <tr>\n",
       "      <th>1.544027e+09</th>\n",
       "      <td>-0.368421</td>\n",
       "      <td>1.0</td>\n",
       "      <td>1.0</td>\n",
       "      <td>-0.368421</td>\n",
       "      <td>7.0</td>\n",
       "      <td>0.934385</td>\n",
       "      <td>0.606531</td>\n",
       "    </tr>\n",
       "    <tr>\n",
       "      <th>1.544027e+09</th>\n",
       "      <td>-0.263158</td>\n",
       "      <td>1.0</td>\n",
       "      <td>1.0</td>\n",
       "      <td>-0.263158</td>\n",
       "      <td>8.0</td>\n",
       "      <td>0.965967</td>\n",
       "      <td>0.606531</td>\n",
       "    </tr>\n",
       "    <tr>\n",
       "      <th>1.544027e+09</th>\n",
       "      <td>-0.157895</td>\n",
       "      <td>1.0</td>\n",
       "      <td>1.0</td>\n",
       "      <td>-0.157895</td>\n",
       "      <td>9.0</td>\n",
       "      <td>0.987612</td>\n",
       "      <td>0.606531</td>\n",
       "    </tr>\n",
       "    <tr>\n",
       "      <th>1.544027e+09</th>\n",
       "      <td>-0.052632</td>\n",
       "      <td>1.0</td>\n",
       "      <td>1.0</td>\n",
       "      <td>-0.052632</td>\n",
       "      <td>10.0</td>\n",
       "      <td>0.998616</td>\n",
       "      <td>0.606531</td>\n",
       "    </tr>\n",
       "    <tr>\n",
       "      <th>1.544027e+09</th>\n",
       "      <td>0.052632</td>\n",
       "      <td>1.0</td>\n",
       "      <td>1.0</td>\n",
       "      <td>0.052632</td>\n",
       "      <td>11.0</td>\n",
       "      <td>0.998616</td>\n",
       "      <td>0.606531</td>\n",
       "    </tr>\n",
       "    <tr>\n",
       "      <th>1.544027e+09</th>\n",
       "      <td>0.157895</td>\n",
       "      <td>1.0</td>\n",
       "      <td>1.0</td>\n",
       "      <td>0.157895</td>\n",
       "      <td>12.0</td>\n",
       "      <td>0.987612</td>\n",
       "      <td>0.606531</td>\n",
       "    </tr>\n",
       "    <tr>\n",
       "      <th>1.544027e+09</th>\n",
       "      <td>0.263158</td>\n",
       "      <td>1.0</td>\n",
       "      <td>1.0</td>\n",
       "      <td>0.263158</td>\n",
       "      <td>13.0</td>\n",
       "      <td>0.965967</td>\n",
       "      <td>0.606531</td>\n",
       "    </tr>\n",
       "    <tr>\n",
       "      <th>1.544027e+09</th>\n",
       "      <td>0.368421</td>\n",
       "      <td>1.0</td>\n",
       "      <td>1.0</td>\n",
       "      <td>0.368421</td>\n",
       "      <td>14.0</td>\n",
       "      <td>0.934385</td>\n",
       "      <td>0.606531</td>\n",
       "    </tr>\n",
       "    <tr>\n",
       "      <th>1.544027e+09</th>\n",
       "      <td>0.473684</td>\n",
       "      <td>1.0</td>\n",
       "      <td>1.0</td>\n",
       "      <td>0.473684</td>\n",
       "      <td>15.0</td>\n",
       "      <td>0.893876</td>\n",
       "      <td>0.606531</td>\n",
       "    </tr>\n",
       "    <tr>\n",
       "      <th>1.544027e+09</th>\n",
       "      <td>0.578947</td>\n",
       "      <td>1.0</td>\n",
       "      <td>1.0</td>\n",
       "      <td>0.578947</td>\n",
       "      <td>16.0</td>\n",
       "      <td>0.845700</td>\n",
       "      <td>0.606531</td>\n",
       "    </tr>\n",
       "    <tr>\n",
       "      <th>1.544027e+09</th>\n",
       "      <td>0.684211</td>\n",
       "      <td>1.0</td>\n",
       "      <td>1.0</td>\n",
       "      <td>0.684211</td>\n",
       "      <td>17.0</td>\n",
       "      <td>0.791305</td>\n",
       "      <td>0.606531</td>\n",
       "    </tr>\n",
       "    <tr>\n",
       "      <th>1.544027e+09</th>\n",
       "      <td>0.789474</td>\n",
       "      <td>1.0</td>\n",
       "      <td>1.0</td>\n",
       "      <td>0.789474</td>\n",
       "      <td>18.0</td>\n",
       "      <td>0.732249</td>\n",
       "      <td>0.606531</td>\n",
       "    </tr>\n",
       "    <tr>\n",
       "      <th>1.544027e+09</th>\n",
       "      <td>0.894737</td>\n",
       "      <td>1.0</td>\n",
       "      <td>1.0</td>\n",
       "      <td>0.894737</td>\n",
       "      <td>19.0</td>\n",
       "      <td>0.670134</td>\n",
       "      <td>0.606531</td>\n",
       "    </tr>\n",
       "    <tr>\n",
       "      <th>1.544027e+09</th>\n",
       "      <td>1.000000</td>\n",
       "      <td>1.0</td>\n",
       "      <td>1.0</td>\n",
       "      <td>1.000000</td>\n",
       "      <td>20.0</td>\n",
       "      <td>0.606531</td>\n",
       "      <td>0.606531</td>\n",
       "    </tr>\n",
       "    <tr>\n",
       "      <th>1.544027e+09</th>\n",
       "      <td>1.000000</td>\n",
       "      <td>1.0</td>\n",
       "      <td>1.0</td>\n",
       "      <td>1.000000</td>\n",
       "      <td>2.0</td>\n",
       "      <td>NaN</td>\n",
       "      <td>NaN</td>\n",
       "    </tr>\n",
       "  </tbody>\n",
       "</table>\n",
       "</div>"
      ],
      "text/plain": [
       "                 motor  motor:motor_acceleration  motor:motor_velocity  \\\n",
       "time                                                                     \n",
       "1.544027e+09  0.000000                       1.0                   1.0   \n",
       "1.544027e+09 -1.000000                       1.0                   1.0   \n",
       "1.544027e+09 -0.894737                       1.0                   1.0   \n",
       "1.544027e+09 -0.789474                       1.0                   1.0   \n",
       "1.544027e+09 -0.684211                       1.0                   1.0   \n",
       "1.544027e+09 -0.578947                       1.0                   1.0   \n",
       "1.544027e+09 -0.473684                       1.0                   1.0   \n",
       "1.544027e+09 -0.368421                       1.0                   1.0   \n",
       "1.544027e+09 -0.263158                       1.0                   1.0   \n",
       "1.544027e+09 -0.157895                       1.0                   1.0   \n",
       "1.544027e+09 -0.052632                       1.0                   1.0   \n",
       "1.544027e+09  0.052632                       1.0                   1.0   \n",
       "1.544027e+09  0.157895                       1.0                   1.0   \n",
       "1.544027e+09  0.263158                       1.0                   1.0   \n",
       "1.544027e+09  0.368421                       1.0                   1.0   \n",
       "1.544027e+09  0.473684                       1.0                   1.0   \n",
       "1.544027e+09  0.578947                       1.0                   1.0   \n",
       "1.544027e+09  0.684211                       1.0                   1.0   \n",
       "1.544027e+09  0.789474                       1.0                   1.0   \n",
       "1.544027e+09  0.894737                       1.0                   1.0   \n",
       "1.544027e+09  1.000000                       1.0                   1.0   \n",
       "1.544027e+09  1.000000                       1.0                   1.0   \n",
       "\n",
       "              motor_setpoint  seq_num       det   det:det  \n",
       "time                                                       \n",
       "1.544027e+09        0.000000      1.0       NaN       NaN  \n",
       "1.544027e+09       -1.000000      1.0  0.606531  0.606531  \n",
       "1.544027e+09       -0.894737      2.0  0.670134  0.606531  \n",
       "1.544027e+09       -0.789474      3.0  0.732249  0.606531  \n",
       "1.544027e+09       -0.684211      4.0  0.791305  0.606531  \n",
       "1.544027e+09       -0.578947      5.0  0.845700  0.606531  \n",
       "1.544027e+09       -0.473684      6.0  0.893876  0.606531  \n",
       "1.544027e+09       -0.368421      7.0  0.934385  0.606531  \n",
       "1.544027e+09       -0.263158      8.0  0.965967  0.606531  \n",
       "1.544027e+09       -0.157895      9.0  0.987612  0.606531  \n",
       "1.544027e+09       -0.052632     10.0  0.998616  0.606531  \n",
       "1.544027e+09        0.052632     11.0  0.998616  0.606531  \n",
       "1.544027e+09        0.157895     12.0  0.987612  0.606531  \n",
       "1.544027e+09        0.263158     13.0  0.965967  0.606531  \n",
       "1.544027e+09        0.368421     14.0  0.934385  0.606531  \n",
       "1.544027e+09        0.473684     15.0  0.893876  0.606531  \n",
       "1.544027e+09        0.578947     16.0  0.845700  0.606531  \n",
       "1.544027e+09        0.684211     17.0  0.791305  0.606531  \n",
       "1.544027e+09        0.789474     18.0  0.732249  0.606531  \n",
       "1.544027e+09        0.894737     19.0  0.670134  0.606531  \n",
       "1.544027e+09        1.000000     20.0  0.606531  0.606531  \n",
       "1.544027e+09        1.000000      2.0       NaN       NaN  "
      ]
     },
     "execution_count": 25,
     "metadata": {},
     "output_type": "execute_result"
    }
   ],
   "source": [
    "xarray.merge(entry()[key].read() for key in entry()).to_dataframe()"
   ]
  },
  {
   "cell_type": "markdown",
   "metadata": {},
   "source": [
    "## N-dimensional Data (e.g. images)\n",
    "\n",
    "Higher-dimensional data does not have to be treated specially. It can sit in an `xarray.Dataset` as well. As above, we can use `read()` to fetch the data immediately or `to_dask()` to fetch it lazily."
   ]
  },
  {
   "cell_type": "code",
   "execution_count": 26,
   "metadata": {},
   "outputs": [
    {
     "data": {
      "text/plain": [
       "<xarray.Dataset>\n",
       "Dimensions:                   (dim_0: 10, dim_1: 10, time: 20)\n",
       "Coordinates:\n",
       "  * time                      (time) float64 1.544e+09 1.544e+09 ... 1.544e+09\n",
       "Dimensions without coordinates: dim_0, dim_1\n",
       "Data variables:\n",
       "    img                       (time, dim_0, dim_1) float64 1.0 1.0 ... 1.0 1.0\n",
       "    img:img                   (time, dim_0, dim_1) float64 1.0 1.0 ... 1.0 1.0\n",
       "    motor                     (time) float64 -1.0 -0.8947 -0.7895 ... 0.8947 1.0\n",
       "    motor:motor_acceleration  (time) int64 1 1 1 1 1 1 1 1 1 ... 1 1 1 1 1 1 1 1\n",
       "    motor:motor_velocity      (time) int64 1 1 1 1 1 1 1 1 1 ... 1 1 1 1 1 1 1 1\n",
       "    motor_setpoint            (time) float64 -1.0 -0.8947 -0.7895 ... 0.8947 1.0\n",
       "    seq_num                   (time) int64 1 2 3 4 5 6 7 ... 15 16 17 18 19 20"
      ]
     },
     "execution_count": 26,
     "metadata": {},
     "output_type": "execute_result"
    }
   ],
   "source": [
    "entry = cat[direct_img_uid]  # uid captured during data acquisition above\n",
    "dataset = entry().primary().read()\n",
    "dataset"
   ]
  },
  {
   "cell_type": "markdown",
   "metadata": {},
   "source": [
    "## The `xarray.Dataset` is a very useful container.\n",
    "\n",
    "It has a nice string representation, as shown above. We can access specific dimensions:"
   ]
  },
  {
   "cell_type": "code",
   "execution_count": 27,
   "metadata": {},
   "outputs": [
    {
     "data": {
      "text/plain": [
       "<xarray.DataArray 'img' (time: 20, dim_0: 10, dim_1: 10)>\n",
       "array([[[1., 1., ..., 1., 1.],\n",
       "        [1., 1., ..., 1., 1.],\n",
       "        ...,\n",
       "        [1., 1., ..., 1., 1.],\n",
       "        [1., 1., ..., 1., 1.]],\n",
       "\n",
       "       [[1., 1., ..., 1., 1.],\n",
       "        [1., 1., ..., 1., 1.],\n",
       "        ...,\n",
       "        [1., 1., ..., 1., 1.],\n",
       "        [1., 1., ..., 1., 1.]],\n",
       "\n",
       "       ...,\n",
       "\n",
       "       [[1., 1., ..., 1., 1.],\n",
       "        [1., 1., ..., 1., 1.],\n",
       "        ...,\n",
       "        [1., 1., ..., 1., 1.],\n",
       "        [1., 1., ..., 1., 1.]],\n",
       "\n",
       "       [[1., 1., ..., 1., 1.],\n",
       "        [1., 1., ..., 1., 1.],\n",
       "        ...,\n",
       "        [1., 1., ..., 1., 1.],\n",
       "        [1., 1., ..., 1., 1.]]])\n",
       "Coordinates:\n",
       "  * time     (time) float64 1.544e+09 1.544e+09 ... 1.544e+09 1.544e+09\n",
       "Dimensions without coordinates: dim_0, dim_1"
      ]
     },
     "execution_count": 27,
     "metadata": {},
     "output_type": "execute_result"
    }
   ],
   "source": [
    "dataset['img']"
   ]
  },
  {
   "cell_type": "markdown",
   "metadata": {},
   "source": [
    "Do math along named dimensions:"
   ]
  },
  {
   "cell_type": "code",
   "execution_count": 28,
   "metadata": {},
   "outputs": [
    {
     "data": {
      "text/plain": [
       "<xarray.DataArray 'img' (dim_0: 10, dim_1: 10)>\n",
       "array([[20., 20., 20., 20., 20., 20., 20., 20., 20., 20.],\n",
       "       [20., 20., 20., 20., 20., 20., 20., 20., 20., 20.],\n",
       "       [20., 20., 20., 20., 20., 20., 20., 20., 20., 20.],\n",
       "       [20., 20., 20., 20., 20., 20., 20., 20., 20., 20.],\n",
       "       [20., 20., 20., 20., 20., 20., 20., 20., 20., 20.],\n",
       "       [20., 20., 20., 20., 20., 20., 20., 20., 20., 20.],\n",
       "       [20., 20., 20., 20., 20., 20., 20., 20., 20., 20.],\n",
       "       [20., 20., 20., 20., 20., 20., 20., 20., 20., 20.],\n",
       "       [20., 20., 20., 20., 20., 20., 20., 20., 20., 20.],\n",
       "       [20., 20., 20., 20., 20., 20., 20., 20., 20., 20.]])\n",
       "Dimensions without coordinates: dim_0, dim_1"
      ]
     },
     "execution_count": 28,
     "metadata": {},
     "output_type": "execute_result"
    }
   ],
   "source": [
    "dataset['img'].sum('time')"
   ]
  },
  {
   "cell_type": "markdown",
   "metadata": {},
   "source": [
    "Slice along named dimensions:"
   ]
  },
  {
   "cell_type": "code",
   "execution_count": 29,
   "metadata": {},
   "outputs": [
    {
     "data": {
      "text/plain": [
       "<xarray.DataArray 'img' (time: 20, dim_0: 3, dim_1: 5)>\n",
       "array([[[1., 1., ..., 1., 1.],\n",
       "        [1., 1., ..., 1., 1.],\n",
       "        [1., 1., ..., 1., 1.]],\n",
       "\n",
       "       [[1., 1., ..., 1., 1.],\n",
       "        [1., 1., ..., 1., 1.],\n",
       "        [1., 1., ..., 1., 1.]],\n",
       "\n",
       "       ...,\n",
       "\n",
       "       [[1., 1., ..., 1., 1.],\n",
       "        [1., 1., ..., 1., 1.],\n",
       "        [1., 1., ..., 1., 1.]],\n",
       "\n",
       "       [[1., 1., ..., 1., 1.],\n",
       "        [1., 1., ..., 1., 1.],\n",
       "        [1., 1., ..., 1., 1.]]])\n",
       "Coordinates:\n",
       "  * time     (time) float64 1.544e+09 1.544e+09 ... 1.544e+09 1.544e+09\n",
       "Dimensions without coordinates: dim_0, dim_1"
      ]
     },
     "execution_count": 29,
     "metadata": {},
     "output_type": "execute_result"
    }
   ],
   "source": [
    "dataset['img'].sel(dim_0=slice(0, 3), dim_1=slice(5, 10))"
   ]
  },
  {
   "cell_type": "code",
   "execution_count": null,
   "metadata": {},
   "outputs": [],
   "source": []
  }
 ],
 "metadata": {
  "kernelspec": {
   "display_name": "Python 3",
   "language": "python",
   "name": "python3"
  },
  "language_info": {
   "codemirror_mode": {
    "name": "ipython",
    "version": 3
   },
   "file_extension": ".py",
   "mimetype": "text/x-python",
   "name": "python",
   "nbconvert_exporter": "python",
   "pygments_lexer": "ipython3",
   "version": "3.7.1"
  }
 },
 "nbformat": 4,
 "nbformat_minor": 2
}
